{
  "nbformat": 4,
  "nbformat_minor": 0,
  "metadata": {
    "colab": {
      "provenance": [],
      "authorship_tag": "ABX9TyOzMrYRqPt5Z+xnWtKIeVbP",
      "include_colab_link": true
    },
    "kernelspec": {
      "name": "python3",
      "display_name": "Python 3"
    },
    "language_info": {
      "name": "python"
    }
  },
  "cells": [
    {
      "cell_type": "markdown",
      "metadata": {
        "id": "view-in-github",
        "colab_type": "text"
      },
      "source": [
        "<a href=\"https://colab.research.google.com/github/EscravoDaMente/Codigos-Python/blob/main/Prova_Infinity_M%C3%B3dulo_01_Aula_03.ipynb\" target=\"_parent\"><img src=\"https://colab.research.google.com/assets/colab-badge.svg\" alt=\"Open In Colab\"/></a>"
      ]
    },
    {
      "cell_type": "code",
      "execution_count": null,
      "metadata": {
        "id": "SZdbKw0dKk1Q"
      },
      "outputs": [],
      "source": [
        "#Questão 01\n",
        "\n",
        "dia = int(input('Informe o dia do seu nascimento: '))\n",
        "mes = int(input('Informe o mês do seu nascimento (em números): '))\n",
        "\n",
        "if (dia >= 21 and dia <=31 and mes == 3) or (dia >=1 and dia<=20 and mes ==4):\n",
        "  print('O seu signo é Áries!')\n",
        "elif (dia >= 21 and dia <=30 and mes == 4) or (dia >=1 and dia<=20 and mes ==5):\n",
        "  print('O seu signo é Touro!')\n",
        "elif (dia >= 21 and dia <=31 and mes == 5) or (dia >=1 and dia<=20 and mes ==6):\n",
        "  print('O seu signo é Gêmeos!')\n",
        "elif (dia >= 21 and dia <=30 and mes == 6) or (dia >=1 and dia<=22 and mes ==7):\n",
        "  print('O seu signo é Câncer!')\n",
        "elif (dia >= 23 and dia <=31 and mes == 7) or (dia >=1 and dia<=22 and mes ==8):\n",
        "  print('O seu signo é Leão!')\n",
        "elif (dia >= 23 and dia <=31 and mes == 8) or (dia >=1 and dia<=22 and mes ==9):\n",
        "  print('O seu signo é Virgem!')\n",
        "elif (dia >= 23 and dia <=30 and mes == 9) or (dia >=1 and dia<=22 and mes ==10):\n",
        "  print('O seu signo é Libra!')\n",
        "elif (dia >= 23 and dia <=31 and mes == 10) or (dia >=1 and dia<=21 and mes ==11):\n",
        "  print('O seu signo é Escorpião!')\n",
        "elif (dia >= 22 and dia <=30 and mes == 11) or (dia >=1 and dia<=21 and mes ==12):\n",
        "  print('O seu signo é Sagitário!')\n",
        "elif (dia >= 22 and dia <=31 and mes == 12) or (dia >=1 and dia<=20 and mes ==1):\n",
        "  print('O seu signo é Capricórnio!')\n",
        "elif (dia >= 21 and dia <=30 and mes == 1) or (dia >=1 and dia<=18 and mes ==2):\n",
        "  print('O seu signo é Aquário!')\n",
        "elif (dia >= 19 and dia <=28 and mes == 2) or (dia >=1 and dia<=20 and mes ==3):\n",
        "  print('O seu signo é Peixes!')\n",
        "else:\n",
        "  print('Você digitou algum dado incorretamente.')"
      ]
    },
    {
      "cell_type": "code",
      "source": [
        "#Questão 02\n",
        "print('Exemplo de informação de idade ao longo das perguntas: 26 anos, 8 meses e 15 dias')\n",
        "\n",
        "anos = int(input('Escreva sua idade em anos completos: '))\n",
        "meses = int(input('Escreva os meses completos após sua idade completa em anos (por ex: 3 meses [passados após meus X anos]): '))\n",
        "dias = int(input('Da mesma forma da instrução para os meses, informe os dias completos após os meses completos: '))\n",
        "\n",
        "idade = (anos*365) + (meses*30) + dias\n",
        "\n",
        "print(f'Sua idade total atual apenas em dias é: {idade}')"
      ],
      "metadata": {
        "id": "IRsZ1RirS_xD"
      },
      "execution_count": null,
      "outputs": []
    },
    {
      "cell_type": "code",
      "source": [
        "#Questão 03\n",
        "\n",
        "base = int(input('Informe o valor da base do retângulo, em metros: '))\n",
        "altura = int(input('Informe a altura do retângulo, em metros: '))\n",
        "\n",
        "area = base*altura\n",
        "\n",
        "print(f'A área do retângulo é de {area}m²')"
      ],
      "metadata": {
        "id": "P2V893tsYvJ5"
      },
      "execution_count": null,
      "outputs": []
    },
    {
      "cell_type": "code",
      "source": [
        "#Questão 04\n",
        "\n",
        "print('Verificador de número primo: ')\n",
        "print('-=-'*15)\n",
        "\n",
        "num = int(input('Digite um número: '))\n",
        "\n",
        "if (num==2 or num==3 or num==5):\n",
        "  print('O número informado é primo.')\n",
        "elif(num%2!=0 and num%3!=0 and num%5!=0):\n",
        "  print('O número informado é primo.')\n",
        "else:\n",
        "  print('O número informado não é primo.')"
      ],
      "metadata": {
        "id": "kqN59SdWanl5"
      },
      "execution_count": null,
      "outputs": []
    }
  ]
}