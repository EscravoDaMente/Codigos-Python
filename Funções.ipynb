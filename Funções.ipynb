{
  "nbformat": 4,
  "nbformat_minor": 0,
  "metadata": {
    "colab": {
      "provenance": [],
      "collapsed_sections": [],
      "authorship_tag": "ABX9TyNajQ2/1enESlTKapLDrA0v",
      "include_colab_link": true
    },
    "kernelspec": {
      "name": "python3",
      "display_name": "Python 3"
    },
    "language_info": {
      "name": "python"
    }
  },
  "cells": [
    {
      "cell_type": "markdown",
      "metadata": {
        "id": "view-in-github",
        "colab_type": "text"
      },
      "source": [
        "<a href=\"https://colab.research.google.com/github/EscravoDaMente/Codigos-Python/blob/main/Fun%C3%A7%C3%B5es.ipynb\" target=\"_parent\"><img src=\"https://colab.research.google.com/assets/colab-badge.svg\" alt=\"Open In Colab\"/></a>"
      ]
    },
    {
      "cell_type": "code",
      "execution_count": null,
      "metadata": {
        "id": "zxOUGITJDmAX"
      },
      "outputs": [],
      "source": [
        "def dobra(lst):\n",
        "  for x in range (0, len(lst), 1):\n",
        "    lst[x]*=2\n",
        "\n",
        "\n",
        "valores = [7,2,5,6,8]\n",
        "dobra(valores)\n",
        "print(valores)"
      ]
    },
    {
      "cell_type": "code",
      "source": [
        "def soma (*valores):\n",
        "  s=0\n",
        "  for num in valores:\n",
        "    s+=num\n",
        "  print(f'A soma dos valores {valores} é igual a {s}')\n",
        "\n",
        "soma(8,8,8)"
      ],
      "metadata": {
        "id": "q7LJ4gHWIPoa"
      },
      "execution_count": null,
      "outputs": []
    },
    {
      "cell_type": "code",
      "source": [
        "def retangulo (b, h):\n",
        "  area = b*h\n",
        "  print(f'O valor da área do retângulo é de {area}m²')\n",
        "base = int(input('Digite o valor da base do retângulo, em metros: '))\n",
        "altura = int(input('Digite a altura do retângulo, em metros: '))\n",
        "\n",
        "retangulo(base, altura)"
      ],
      "metadata": {
        "id": "bfDPmOzDTQqE"
      },
      "execution_count": null,
      "outputs": []
    },
    {
      "cell_type": "code",
      "source": [
        "inicio = int(input('Defina o número de início do contador: '))\n",
        "fim= int(input('O número de fim: '))\n",
        "cont= int(input('Defina o passo: '))\n",
        "\n",
        "def contador_subindo():\n",
        "  for x in range (0, 11, 1):\n",
        "    print(x, end=' ')\n",
        "   \n",
        "\n",
        "def contador_descendo():\n",
        "  for x in range (10, -1, -2):\n",
        "    print(x, end=' ')\n",
        "\n",
        "def contador_personalizado(a, b, c):\n",
        "\n",
        "  for x in range (a, b+1, c):\n",
        "    print(x, end=' ')\n",
        "\n",
        "contador_subindo()\n",
        "print('\\n')\n",
        "contador_descendo()\n",
        "print('\\n')\n",
        "contador_personalizado(inicio, fim ,cont)"
      ],
      "metadata": {
        "id": "jhdr9V9Ke45I"
      },
      "execution_count": null,
      "outputs": []
    },
    {
      "cell_type": "code",
      "source": [
        "def maior(*pacote):\n",
        "  print(f'Foram informados {len(pacote)} valores.')\n",
        "  print(f'O maior valor da lista é {max(lista)}')\n",
        "\n",
        "lista = []\n",
        "x = 0\n",
        "while True:\n",
        "  lista.append(int(input('Digite um valor para adicionar à lista: ')))\n",
        "  continuar = str(input('Deseja continuar? Digite n para sair')).lower()\n",
        "  if(continuar == 'n'):\n",
        "    break\n",
        "\n",
        "maior(lista)\n",
        "#print(*pacote, end=' ')\n",
        "\n",
        "#print(f'O maior valor da lista é {max(lista)}')\n"
      ],
      "metadata": {
        "id": "1KG7a2uTMRZi"
      },
      "execution_count": null,
      "outputs": []
    },
    {
      "cell_type": "code",
      "source": [
        "#esboço código - falho\n",
        "import random\n",
        "def sorteia(*lista):\n",
        "  lista = random.randint(lista)\n",
        "  print(lista)\n",
        "def somaPar(*lst):\n",
        "  soma_dos_pares = 0\n",
        "  for x in range (len(*lista)):\n",
        "    if(lista[x]%2 == 0):\n",
        "      soma_dos_pares+=lista[x]\n",
        "  print(soma_dos_pares)\n",
        "\n",
        "\n",
        "#parte importante para lembrar\n",
        "numeros = [(int(input('Digite um valor: '))) for x in range(5)]\n",
        "\n",
        "sorteia(numeros)\n",
        "\n",
        "somaPar(numeros)\n",
        "\n",
        "#x = random.randint(1,999)\n",
        "#print(x)"
      ],
      "metadata": {
        "id": "KV_G9NEDGgmB"
      },
      "execution_count": null,
      "outputs": []
    },
    {
      "cell_type": "code",
      "source": [
        "from random import randint\n",
        "def sorteia(lista):\n",
        "  for x in range (0,5):\n",
        "    lista.append(randint(1,5))\n",
        "\n",
        "def somaPar(lista):\n",
        "  soma = 0\n",
        "  for x in range (len(lista)):\n",
        "    if (lista[x]%2 == 0):\n",
        "      soma+=lista[x]\n",
        "  print(f'A soma dos números pares da lista aleatória é {soma}')\n",
        "\n",
        "números = list()\n",
        "sorteia(números)\n",
        "print(números)\n",
        "somaPar(números)\n"
      ],
      "metadata": {
        "id": "2EBFrE8wwnJz"
      },
      "execution_count": null,
      "outputs": []
    },
    {
      "cell_type": "code",
      "source": [
        "def voto(a):\n",
        "  from datetime import date\n",
        "  ano_atual = date.today().year\n",
        "  if (ano_atual - a) >=18:\n",
        "    print(f' Com {(ano_atual - a)} anos o indivíduo está obrigado a votar.')\n",
        "  elif (ano_atual - a) ==16:\n",
        "    print(f' Com {(ano_atual - a)} anos o indivíduo possui a opção de votar.')\n",
        "  else:\n",
        "    print(f' Com {(ano_atual - a)} anos o indivíduo ainda não pode votar.')\n",
        "\n",
        "ano = int(input('Digite o ano de nascimento: '))\n",
        "\n",
        "voto(ano)"
      ],
      "metadata": {
        "id": "QauU7rYNKn2J"
      },
      "execution_count": null,
      "outputs": []
    },
    {
      "cell_type": "code",
      "source": [
        "def fatorial(a, show=False):\n",
        "  resultado = 1\n",
        "  for x in range (1, a+1):\n",
        "    if show==True:\n",
        "      print(f'{a} x {x}')\n",
        "    resultado*=x\n",
        "  return resultado\n",
        "\n",
        "num = int(input('Informe o número a ser fatorado: '))\n",
        "print(fatorial(num))\n"
      ],
      "metadata": {
        "id": "dEqlOhUeLhYH"
      },
      "execution_count": null,
      "outputs": []
    },
    {
      "cell_type": "code",
      "source": [
        "def ficha(a, b):\n",
        "  if nome.strip() == '':\n",
        "    \n",
        "\n",
        "nome = str(input('Digite o nome do jogador: '))\n",
        "gols = int(input('Digite o número de gols feitos pelo jogador: '))\n"
      ],
      "metadata": {
        "id": "OEF-jr1rCwyZ"
      },
      "execution_count": null,
      "outputs": []
    },
    {
      "cell_type": "code",
      "source": [
        "def dados(a):\n",
        "  valor = 0\n",
        "  if num.isnumeric():\n",
        "    #valor = int(a) #opcional - poderia ter apenas printado 'a', pq o isnumeric já verificou que a str é um número. obs.: o if deu erro nas primeiras vezes, até colocar um == True. Após isso, ao tirar o true, continuou rodando.\n",
        "    print(f'Você digitou o número {a}')\n",
        "  else:\n",
        "    print('Erro! Digite um número válido')\n",
        "\n",
        "num = str(input('Digite um número: '))\n",
        "dados(num)"
      ],
      "metadata": {
        "id": "gchFxoCsGBrK"
      },
      "execution_count": null,
      "outputs": []
    },
    {
      "cell_type": "code",
      "source": [
        "def ABC(L, n):\n",
        "\n",
        "    while True:\n",
        "\n",
        "        if len(L) >= n:\n",
        "\n",
        "            return L\n",
        "\n",
        "        else:                  \n",
        "\n",
        "            L.append(len(L) ** 2) \n",
        "\n",
        "print (ABC([20],10))"
      ],
      "metadata": {
        "id": "PVkLRgDgJmt2"
      },
      "execution_count": null,
      "outputs": []
    }
  ]
}