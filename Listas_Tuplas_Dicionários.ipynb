{
  "nbformat": 4,
  "nbformat_minor": 0,
  "metadata": {
    "colab": {
      "provenance": [],
      "collapsed_sections": [],
      "authorship_tag": "ABX9TyMYZcEuvVvANFetOcrpBK6p",
      "include_colab_link": true
    },
    "kernelspec": {
      "name": "python3",
      "display_name": "Python 3"
    },
    "language_info": {
      "name": "python"
    }
  },
  "cells": [
    {
      "cell_type": "markdown",
      "metadata": {
        "id": "view-in-github",
        "colab_type": "text"
      },
      "source": [
        "<a href=\"https://colab.research.google.com/github/ViniciusCarinhanha/Python-Codes/blob/main/Listas_Tuplas_Dicion%C3%A1rios.ipynb\" target=\"_parent\"><img src=\"https://colab.research.google.com/assets/colab-badge.svg\" alt=\"Open In Colab\"/></a>"
      ]
    },
    {
      "cell_type": "code",
      "execution_count": null,
      "metadata": {
        "id": "dRdGh8tGEKH5"
      },
      "outputs": [],
      "source": [
        "# Tupla - Número por Extenso\n",
        "tupla = ('zero', 'um', 'dois', 'três', 'quatro', 'cinco', 'seis', 'sete', 'oito', 'nove', 'dez', 'onze', 'doze', 'treze', 'quatorze', 'quinze', 'dezesseis', 'dezessete', 'dezoito', 'dezenove', 'vinte')\n",
        "\n",
        "pos = int(input('Digite um número: '))\n",
        "if (pos<=20 and pos>=0):\n",
        "  print(f' Você digitou o número {tupla[pos]}')\n",
        "else:\n",
        "  print('Tente novamente')"
      ]
    },
    {
      "cell_type": "code",
      "source": [
        "#Tupla - Colocação dos Times\n",
        "tupla = ('time 1', 'time 2', 'time 3', 'time 4', 'time 5', 'time 6', 'time 7', 'time 8', 'time 9', 'time 10', 'time 11', 'time 12', 'time 13', 'time 14', 'time 15', 'time 16', 'time 17', 'time 18', 'time 19', 'time 20')\n",
        "print(sorted(tupla))\n",
        "for x in range (0, 5):\n",
        "  print(tupla[x])\n",
        "print('Esses são os 5 primeiros colocados')\n",
        "for x in range (-1, -4, -1):\n",
        "  print(tupla[x])\n",
        "print('Esses são os 4 últimos colocados')\n",
        "\n"
      ],
      "metadata": {
        "id": "0L3FfrD9i7yb"
      },
      "execution_count": null,
      "outputs": []
    },
    {
      "cell_type": "code",
      "source": [
        "#Tupla - Teste comando Sorted\n",
        "tupla = ('Vermelho', 'Azul', 'Amarelo', 'Verde')\n",
        "print(sorted(tupla))"
      ],
      "metadata": {
        "id": "vTdYRFSB7n6A"
      },
      "execution_count": null,
      "outputs": []
    },
    {
      "cell_type": "code",
      "source": [
        "from random import randint\n",
        "tupla = (randint(0,80), randint(0,80), randint(0,80), randint(0,80), randint(0,80))\n",
        "print(tupla)\n",
        "print(f'O maior valor da tupla é {max(tupla)}, e o menor valor é: {min(tupla)}')"
      ],
      "metadata": {
        "id": "hWvFkWD-8cMc"
      },
      "execution_count": null,
      "outputs": []
    },
    {
      "cell_type": "code",
      "source": [
        "#Tupla Testes Count\n",
        "tupla = ((int(input('Digite um número: '))), (int(input('Digite um número: '))), (int(input('Digite um número: '))), (int(input('Digite um número: '))))\n",
        "\n",
        "print(f'''O número 9 apareceu {tupla.count(9)} vezes.\n",
        "O número 3 aparece pela primeira vez na posição {tupla.index(3)}.''')\n",
        "print('Os valores pares digitados foram: ')\n",
        "for x in range (0,4):\n",
        "  if(tupla[x]%2==0):\n",
        "    print(tupla[x], end=' ')"
      ],
      "metadata": {
        "id": "PEBbH1Iz_ARF"
      },
      "execution_count": null,
      "outputs": []
    },
    {
      "cell_type": "code",
      "source": [
        "#Tupla - Tabela de Produtos\n",
        "tupla = ('Lapis', 2, 'Borracha', 1.50, 'Caderno', 15, 'Papel', 0.40)\n",
        "print('-=-'*40)\n",
        "print(f'LISTAGEM DE PREÇOS')\n",
        "print('-=-'*40)\n",
        "\n",
        "\n",
        "for x in range (0, len(tupla)):\n",
        "  if(x%2==0):\n",
        "    print(f'{tupla[x]:.<30}', end='')\n",
        "  else:\n",
        "    print(f'R${tupla[x]:>.2f}')"
      ],
      "metadata": {
        "id": "JKulcYw3CBv7"
      },
      "execution_count": null,
      "outputs": []
    },
    {
      "cell_type": "code",
      "source": [
        "#Tupla - Encontrar vogais\n",
        "nomes = ('Elena', 'Clara', 'Vinicius', 'Simone', 'Cristina', 'Roberto', 'Marcos', 'Laila', 'Viviane', 'Andreia')\n",
        "#vogais = ('a', 'e', 'i', 'o', 'u')\n",
        "print(nomes)\n",
        "\n",
        "for x in nomes:\n",
        "  print(f'\\nNa palavra {x} temos as vogais: ', end='')\n",
        "  for y in x:\n",
        "    if y.lower() in 'aeiou':\n",
        "      print(y, end='')"
      ],
      "metadata": {
        "id": "DjNz5fzSOgNN"
      },
      "execution_count": null,
      "outputs": []
    },
    {
      "cell_type": "code",
      "source": [
        "valores = [5, 9, 8]\n",
        "b = valores[:]\n",
        "#isso equivale a:\n",
        "# b = valores.copy()\n",
        "# a lista está sendo fatiada de 0 até o fim, e sendo copiada para a outra lista ao utilizar o [:]\n",
        "b[2] = 4\n",
        "print(b)\n",
        "print(valores)"
      ],
      "metadata": {
        "id": "uWoNYw_dOhl7"
      },
      "execution_count": null,
      "outputs": []
    },
    {
      "cell_type": "code",
      "source": [
        "lista = [5, 8, 9, 15, 16, 20, 1, 50, 80, 90]\n",
        "\n",
        "print(max(lista))\n",
        "print(min(lista))"
      ],
      "metadata": {
        "id": "ihIjoQbagPqh"
      },
      "execution_count": null,
      "outputs": []
    },
    {
      "cell_type": "code",
      "source": [
        "#Lista - Nome ao contrário\n",
        "#https://encurtador.com.br/achkt\n",
        "nome = list(input('Digite o seu nome: '))\n",
        "nome.reverse()\n",
        "x =  \"\".join(nome)\n",
        "print(x)"
      ],
      "metadata": {
        "id": "espXD40pR9Ep"
      },
      "execution_count": null,
      "outputs": []
    },
    {
      "cell_type": "code",
      "source": [
        "#Lista - Remover Valores Repetidos\n",
        "lista = []\n",
        "\n",
        "for x in range (6):\n",
        "  entrada = int(input('Digite um valor: '))\n",
        "  if entrada not in lista:\n",
        "    lista.append(entrada)\n",
        "  else:\n",
        "    lista.pop()\n",
        "lista.sort()\n",
        "print(lista)"
      ],
      "metadata": {
        "id": "EubxsLjxyvqu"
      },
      "execution_count": null,
      "outputs": []
    },
    {
      "cell_type": "code",
      "source": [
        "#Lista - Testes contagens\n",
        "lista = [int(input('Digite um valor: ')) for x in range(5)]\n",
        "\n",
        "print(lista)\n",
        "tamanho = len(lista)\n",
        "\n",
        "print(f'Foram digitados {tamanho} números')\n",
        "\n",
        "lista.sort(reverse=True)\n",
        "\n",
        "print(lista)\n",
        "\n",
        "if 5 in lista:\n",
        "  print('O número 5 foi digitado na lista informada.')\n",
        "else:\n",
        "  print('Não foi encontrado o número 5 na lista informada.')"
      ],
      "metadata": {
        "id": "KKCI65V632sJ"
      },
      "execution_count": null,
      "outputs": []
    },
    {
      "cell_type": "code",
      "source": [
        "#Lista - Buscando números pares e ímpares\n",
        "lista = []\n",
        "\n",
        "while True:\n",
        "  lista.append(int(input('Digite um valor: ')))\n",
        "  saída = str(input('Digite N para sair. Pressione qualquer tecla para continuar...')).lower()\n",
        "  if saída == 'n':\n",
        "    break\n",
        "print(lista)\n",
        "lista_pares = []\n",
        "lista_ímpares = []\n",
        "for x in lista:\n",
        "  if (x%2 == 0):\n",
        "    lista_pares.append(x)\n",
        "  else:\n",
        "    lista_ímpares.append(x)\n",
        "\n",
        "print(f'Os números pares digitados são: {lista_pares}')\n",
        "print(f'Os números ímpares digitados são: {lista_ímpares}')"
      ],
      "metadata": {
        "id": "xjqQHwH6D2_K"
      },
      "execution_count": null,
      "outputs": []
    },
    {
      "cell_type": "code",
      "source": [
        "#verificador de expressão numérica\n",
        "expressão = str(input('Digite uma expressão entre parênteses: '))\n",
        "\n",
        "num_parenteses_esq = expressão.count('(')\n",
        "num_parenteses_dir = expressão.count(')')\n",
        "\n",
        "if (num_parenteses_esq != num_parenteses_dir):\n",
        "  print('Sua expressão está errada. Revise a quantidade de parênteses abertos ou fechados.')\n",
        "else:\n",
        "  print('Expressão correta.')"
      ],
      "metadata": {
        "id": "SSwQ-ecUKpAc"
      },
      "execution_count": null,
      "outputs": []
    },
    {
      "cell_type": "code",
      "source": [
        "#ex084\n",
        "\n",
        "pessoas = list()\n",
        "peso = list()\n",
        "contador_pessoas = 0\n",
        "maior_peso = []\n",
        "while True:\n",
        "  pessoas.append(str(input('Digite um nome: ')))\n",
        "  pessoas.append(int(input('Digite o peso: ')))\n",
        "  peso.append(pessoas[:])\n",
        "  pessoas.clear()\n",
        "  contador_pessoas +=1\n",
        "  continuar = str(input('Deseja continuar? Pressione N para sair')).lower()\n",
        "  if(continuar == 'n'):\n",
        "    break\n",
        "\n",
        "print(pessoas)\n",
        "print(peso)\n",
        "print(f'Foram cadastradas {contador_pessoas} pessoas.')\n",
        "\n",
        "for quilo in peso:\n",
        "  if (quilo.isnumeric()):\n",
        "    maior_peso.append(quilo)\n",
        "\n"
      ],
      "metadata": {
        "id": "PzgNAADRV6ua"
      },
      "execution_count": null,
      "outputs": []
    },
    {
      "cell_type": "code",
      "source": [
        "#Criando uma matriz\n",
        "lista = [[0,0,0], [0,0,0], [0,0,0]]\n",
        "\n",
        "for l in range (3):\n",
        "  for c in range(3):\n",
        "    lista[l][c] = int(input(f'Digite um valor para [{l}][{c}]: '))\n",
        "\n",
        "print(lista)\n",
        "\n",
        "for l in range (3):\n",
        "  for c in range(3):\n",
        "    print(f'[{lista[l][c]:^5}]', end='')\n",
        "  print('')\n",
        "\n",
        "#numpy array\n",
        "#numpy reshape  "
      ],
      "metadata": {
        "id": "oz37JxTqdBPk"
      },
      "execution_count": null,
      "outputs": []
    },
    {
      "cell_type": "code",
      "source": [
        "#mega-sena\n",
        "import random\n",
        "lista = []\n",
        "for num in range (1, 61):\n",
        "  lista.append(num)\n",
        "\n",
        "num_jogos = int(input('Quantos jogos serão sorteados? '))\n",
        "for x in range (num_jogos):\n",
        "  jogo = random.sample(lista,6)\n",
        "  print(f'Jogo {x+1}: {jogo}')\n",
        "  jogo.clear()\n",
        "  "
      ],
      "metadata": {
        "id": "tZQzQVgBoAqp"
      },
      "execution_count": null,
      "outputs": []
    },
    {
      "cell_type": "code",
      "source": [
        "#boletim de alunos\n",
        "\n",
        "ficha_aluno = list()\n",
        "x = 0\n",
        "while True:\n",
        "  nome = str(input('Informe o nome do aluno: '))\n",
        "  nota1 = int(input('Informe a primeira nota: '))\n",
        "  nota2 = int(input('A segunda nota: '))\n",
        "  media = (nota1+nota2)/2\n",
        "\n",
        "  ficha_aluno.append([nome, [nota1, nota2], media ])\n",
        "\n",
        "  saída = str(input('Deseja adicionar mais alunos? Digite N para sair.')).lower()\n",
        "  if saída == 'n':\n",
        "    break\n",
        "\n",
        "print(ficha_aluno)\n",
        "\n",
        "print('='*30)\n",
        "print('Nº - Nome - Média')\n",
        "print('='*30)\n",
        "\n",
        "\n",
        "for x, y in enumerate(ficha_aluno):\n",
        "  print(f'{x:<4} {y[0]:<10}   {y[2]:>8}')\n",
        "\n",
        "while True:\n",
        "  menu = int(input('Deseja visualizar as notas de qual aluno? Digite 999 para sair'))\n",
        "  if(menu == 999):\n",
        "    print('Encerrando Software...')\n",
        "    break\n",
        "  elif(menu <= len(ficha_aluno)-1):\n",
        "    print(f'Aluno: {ficha_aluno[menu][0]} Notas: {ficha_aluno[menu][1]}')\n",
        "\n",
        "\n"
      ],
      "metadata": {
        "id": "W-Hf_XrXyzS2"
      },
      "execution_count": null,
      "outputs": []
    },
    {
      "cell_type": "code",
      "source": [
        "#DICIONÁRIOS daqui em diante - Siglas Estados\n",
        "\n",
        "estado = dict()\n",
        "brasil = list()\n",
        "\n",
        "for x in range (3):\n",
        "  estado['uf'] = str(input('Unidade Federativa: '))\n",
        "  estado['sigla'] = str(input('Sigla do Estado: '))\n",
        "  brasil.append(estado.copy())\n",
        "\n",
        "for e in brasil:\n",
        "  for k,v in e.items():\n",
        "    print(f'O campo {k} tem valor {v}')\n",
        "\n",
        "  \n",
        "#print(brasil)"
      ],
      "metadata": {
        "id": "xHmh8okReBKD"
      },
      "execution_count": null,
      "outputs": []
    },
    {
      "cell_type": "code",
      "source": [
        "#boletim de aluno utilizando dicionário\n",
        "\n",
        "informações = dict()\n",
        "boletim = list()\n",
        "\n",
        "for x in range (3):\n",
        "  informações['nome'] = str(input('Informe o nome do aluno: '))\n",
        "  informações['média'] = int(input('Informe a média do aluno: '))\n",
        "  if(informações['média']>=7):\n",
        "    informações['situação'] = 'Aprovado'\n",
        "  else:\n",
        "    informações['situação'] = 'Reprovado'\n",
        "  boletim.append(informações.copy())\n",
        "\n",
        "print('-='*30)\n",
        "print('Apresentando dados dos alunos: ')\n",
        "print('-='*30)\n",
        "\n",
        "for x in boletim:\n",
        "  for k, v in x.items():\n",
        "    print(f'{k:^4}:{v:>15}')\n",
        "    print('')"
      ],
      "metadata": {
        "id": "MIr-ZZZ9hdX3"
      },
      "execution_count": null,
      "outputs": []
    },
    {
      "cell_type": "code",
      "source": [
        "informações = dict()\n",
        "boletim = list()\n",
        "\n",
        "for x in range (3):\n",
        "  informações['nome'] = str(input('Informe o nome do aluno: '))\n",
        "  informações['média'] = int(input('Informe a média do aluno: '))\n",
        "  if(informações['média']>=7):\n",
        "    informações['situação'] = 'Aprovado'\n",
        "  else:\n",
        "    informações['situação'] = 'Reprovado'\n",
        "  boletim.append(informações.copy())\n",
        "\n",
        "print('-='*30)\n",
        "print('Apresentando dados dos alunos: ')\n",
        "print('-='*30)\n",
        "\n",
        "for x in boletim:\n",
        "  for k, v in x.items():\n",
        "    print(f'{k:^4}:{v:>15}')\n",
        "    print('')\n"
      ],
      "metadata": {
        "id": "FF5O8MPLZLOZ"
      },
      "execution_count": null,
      "outputs": []
    },
    {
      "cell_type": "code",
      "source": [
        "#dicionário - números aleatórios jogadores\n",
        "from random import randint\n",
        "from operator import itemgetter\n",
        "\n",
        "informações = dict()\n",
        "resultados = list()\n",
        "\n",
        "for x in range (4):\n",
        "  informações['Jogador'] = str(input('Registre o nome do jogador: '))\n",
        "  informações['Número'] = random.randint(1,12)\n",
        "  resultados.append(informações.copy())\n",
        "\n",
        "for x in resultados:\n",
        "  for k, v in x.items():\n",
        "    print(f'{k}:    {v}')\n",
        "    print('')\n",
        "#lembrete max utilizando key=lambda\n",
        "vencedor = max(resultados, key=lambda x:x['Número'])\n",
        "print(f' Vencedor: {vencedor}')\n"
      ],
      "metadata": {
        "id": "kWnWsDMucClu"
      },
      "execution_count": null,
      "outputs": []
    },
    {
      "cell_type": "code",
      "source": [
        "#alternativa simples à resolução anterior\n",
        "\n",
        "from random import randint\n",
        "from operator import itemgetter\n",
        "jogo = {'jogador1': random.randint(1,12),\n",
        "        'jogador2': random.randint(1,12),\n",
        "        'jogador3': random.randint(1,12),\n",
        "        'jogador4': random.randint(1,12)}\n",
        "\n",
        "ranking = dict()\n",
        "for k,v in jogo.items():\n",
        "  print(f'O jogador {k} tirou {v}')\n",
        "\n",
        "ranking = sorted(jogo.items(), key=itemgetter(1), reverse=True)\n",
        "print(ranking)\n",
        "\n",
        "for i, v in enumerate(ranking):\n",
        "  print(f'{i+1}º Lugar: {v[0]} - tirou {v[1]} no dado')\n",
        "  print('')"
      ],
      "metadata": {
        "id": "4gN2fwWjsUef"
      },
      "execution_count": null,
      "outputs": []
    },
    {
      "cell_type": "code",
      "source": [
        "#cadastro trabalhador aposentadoria\n",
        "from datetime import datetime\n",
        "dados = {'Nome': str(input('Informe o nome:')), 'Idade': int(input('Informe o ano de nascimento: ')), 'CTPS': int(input('Informe o número da CTPS (0 se não tiver): ')), 'Contratação': int(input('Informe o ano de contratação: ')), 'Salário': int(input('Informe o salário: '))}\n",
        "\n",
        "dados['Idade'] = datetime.now().year - dados['Idade']\n",
        "print(dados)\n",
        "\n",
        "for k, v in dados.items():\n",
        "  if (v != 0):\n",
        "    print(f'{k} possui o valor de {v}')\n",
        "  else:\n",
        "    continue"
      ],
      "metadata": {
        "id": "k71f9MK0jm-f"
      },
      "execution_count": null,
      "outputs": []
    },
    {
      "cell_type": "code",
      "source": [
        "#lembrete função datetime\n",
        "from datetime import datetime\n",
        "\n",
        "ano = 1996\n",
        "data_atual = datetime.now()\n",
        "idade = data_atual.year - ano\n",
        "\n",
        "print(idade)"
      ],
      "metadata": {
        "id": "LBRr1tcD0PjN"
      },
      "execution_count": null,
      "outputs": []
    },
    {
      "cell_type": "code",
      "source": [
        "#dicionário - altura pessoas\n",
        "\n",
        "alturas = dict()\n",
        "nomes_pessoas = list()\n",
        "\n",
        "for x in range(5):\n",
        "  alturas['Nome']: "
      ],
      "metadata": {
        "id": "eZ6qq6Dd_UU7"
      },
      "execution_count": null,
      "outputs": []
    },
    {
      "cell_type": "code",
      "source": [
        "#dicionário - altura pessoas (forma simples)\n",
        "alturas = {'Vinicius': 1.76, 'Elena': 1.72, 'Clara': 1.50, 'Mel': 1.80, 'Roris': 1.85}\n",
        "nomes_pessoas = list()\n",
        "\n",
        "for nomes in alturas.keys():\n",
        "  if (alturas[nomes]>=1.80):\n",
        "    nomes_pessoas.append(nomes)\n",
        "\n",
        "print(nomes_pessoas)"
      ],
      "metadata": {
        "id": "TFpQOT3kO72R"
      },
      "execution_count": null,
      "outputs": []
    },
    {
      "cell_type": "code",
      "source": [
        "#dicionário - vogais numa frase\n",
        "frase = str(input('Digite uma frase: ')).lower()\n",
        "\n",
        "vogais = {'a': frase.count('a'), 'e': frase.count('e'), 'i': frase.count('i'), 'o': frase.count('o'), 'u': frase.count('u')}\n",
        "\n",
        "#opção alternativa para resolver a mesma situação sem o .count()\n",
        "'''for letra in frase:\n",
        "  if (letra in 'aeiou'):\n",
        "    vogais[letra]+=1'''\n",
        "\n",
        "print(vogais)"
      ],
      "metadata": {
        "id": "nNBzfY5nSjXO"
      },
      "execution_count": null,
      "outputs": []
    },
    {
      "cell_type": "code",
      "source": [
        "#dicionário - leitura notas de alunos\n",
        "\n",
        "dicionário = dict()\n",
        "while True:\n",
        "  y = str(input('Informe o nome do aluno: '))\n",
        "  if (y==''):\n",
        "    break\n",
        "  n1 = int(input('Informe a primeira nota: '))\n",
        "  n2 = int(input('Informe a segunda nota: '))\n",
        "  dicionário[y] = [n1, n2]\n",
        "  \n",
        "print(dicionário)\n",
        "  "
      ],
      "metadata": {
        "id": "LDXQhQ81UOml"
      },
      "execution_count": null,
      "outputs": []
    },
    {
      "cell_type": "code",
      "source": [
        "#dicionário - leitura notas de alunos\n",
        "\n",
        "dicionário = dict()\n",
        "média = 0\n",
        "while True:\n",
        "  y = str(input('Informe o nome do aluno: '))\n",
        "  if (y==''):\n",
        "    break\n",
        "  n1 = int(input('Informe a primeira nota: '))\n",
        "  n2 = int(input('Informe a segunda nota: '))\n",
        "  dicionário[y] = [n1, n2]\n",
        "for nomes in dicionário.keys():\n",
        "  média += sum(dicionário[nomes])\n",
        "  print(f'Aluno: {nomes:10} Notas: {dicionário[nomes]} Média: {média:<4}')\n"
      ],
      "metadata": {
        "id": "nnETtqObtBxN"
      },
      "execution_count": null,
      "outputs": []
    },
    {
      "cell_type": "code",
      "source": [
        "#dicionário - Cadastro Jogadores de Futebol\n",
        "\n",
        "registro = dict()\n",
        "partidas = list()\n",
        "y = str(input('Digite o nome do jogador: '))\n",
        "n_partidas = int(input('Quantas partidas foram jogadas? '))\n",
        "for x in range (n_partidas):\n",
        "  n_gols = int(input(f'Informe quantos gols o jogador fez na partida {x+1}? '))\n",
        "  partidas.append(n_gols)\n",
        "\n",
        "registro[y] = partidas\n",
        "total_de_gols = sum(registro[y])\n",
        "print(f'{y} - Gols por Partida:', end='')\n",
        "print('')\n",
        "contador = 1\n",
        "contador_lista = 0\n",
        "for x in registro[y]:\n",
        "  print(f'Partida {contador}: {x}')\n",
        "  contador+=1\n",
        "  contador_lista+=1\n",
        "print(f'Total de Gols: {total_de_gols}')"
      ],
      "metadata": {
        "id": "4EsxyodL9igz"
      },
      "execution_count": null,
      "outputs": []
    },
    {
      "cell_type": "code",
      "source": [
        "#dicionário - Cadastro de Pessoas\n",
        "\n",
        "pessoas = {'nomes': '', 'sexos': '', 'idades': 0}\n",
        "lista_nomes = list()\n",
        "lista_sexos = list()\n",
        "lista_idades = list()\n",
        "saída = 'n'\n",
        "armazenador = ''\n",
        "armazenador_fem = ''\n",
        "lista_mulheres = list()\n",
        "while True:\n",
        "  armazenador = str(input('Informe o nome: '))\n",
        "  lista_nomes.append(armazenador)\n",
        "  armazenador_fem = str(input('Informe o sexo [M/F]: ')).lower()\n",
        "  if armazenador_fem == 'f':\n",
        "    lista_mulheres.append(armazenador\n",
        "  lista_sexos.append(armazenador_fem)\n",
        "  armazenador = int(input('Informe a idade: '))\n",
        "  lista_idades.append(armazenador)\n",
        "  saída = str(input('Deseja sair? Digite \"s\" para sair')).lower()\n",
        "  if saída == 's':\n",
        "    break\n",
        "pessoas['nomes'] = lista_nomes\n",
        "pessoas['sexos'] = lista_sexos\n",
        "pessoas['idades'] = lista_idades\n",
        "print(pessoas)\n",
        "quantidade_pessoas = len(lista_nomes)\n",
        "média_idades = (sum(lista_idades)/len(lista_idades))\n",
        "print(f'Quantidade de pessoas registradas: {quantidade_pessoas}')\n",
        "print(f'A média das idades é: {média_idades:.1f}')\n",
        "print(f'As mulheres cadastradas são: {lista_mulheres}')"
      ],
      "metadata": {
        "id": "y2Gp46epelIB"
      },
      "execution_count": null,
      "outputs": []
    },
    {
      "cell_type": "code",
      "source": [
        "#dicionário - Asteróides NASA - esboço\n",
        "\n",
        "asteroides = dict()\n",
        "distancias_temporario = list()\n",
        "#distancias = list()\n",
        "num_distancias = 0\n",
        "sum_distancias = 0\n",
        "while True:\n",
        "  y = str(input('Informe o nome do asteróide que deseja registrar:'))\n",
        "  print('A seguir, informe as últimas 5 distâncias registradas (em km): ')\n",
        "  for x in range(5):\n",
        "    #dists = int(input(f'Distância {x+1}: '))\n",
        "    distancias_temporario.append(int(input(f'Distância {x+1}: ')))\n",
        "  asteroides[y] = distancias_temporario.copy()\n",
        "  num_distancias+= len(distancias_temporario)\n",
        "  distancias_temporario.clear()\n",
        "  saída = str(input('Deseja sair? Digite \"s\" para encerrar.'))\n",
        "  if saída == 's':\n",
        "    break\n",
        "print(asteroides)\n",
        "print(num_distancias)\n",
        "for infos in asteroides.keys():\n",
        "  numerador = sum(asteroides[infos])\n",
        "  denominador = len(asteroides[infos])\n",
        "  sum_distancias+= sum(asteroides[infos])\n",
        "  print(f'Nome do Asteróide: {infos} - Distâncias registradas: {asteroides[infos]}km - Distância média:', end=' ')\n",
        "  print(f'{numerador/denominador:.1f}', end='')\n",
        "  print('km')\n",
        "\n",
        "  #irei colocar abaixo a distancia média total em relação a todos os asteróides, pois\n",
        "  #na minha opinião, fica ambíguo o comando das médias na questão. É bem comum as questões\n",
        "  #das provas terem ambiguidades nos comandos do enunciado. Isso dificulta muito a resposta\n",
        "  #às vezes...\n",
        "print(sum_distancias)\n",
        "media_total_do_total_ambigua = sum_distancias/num_distancias\n",
        "print(f'A média total em relação a TODOS os asteróides é de: {media_total_do_total_ambigua}km')"
      ],
      "metadata": {
        "id": "EZyJhxICQL7k"
      },
      "execution_count": null,
      "outputs": []
    },
    {
      "cell_type": "code",
      "source": [
        "#dicionário - Asteróides NASA - final\n",
        "\n",
        "asteroides = dict()\n",
        "distancias_temporario = list()\n",
        "num_distancias = 0\n",
        "sum_distancias = 0\n",
        "while True:\n",
        "  y = str(input('Informe o nome do asteróide que deseja registrar:'))\n",
        "  print('A seguir, informe as últimas 5 distâncias registradas (em km): ')\n",
        "  for x in range(5):\n",
        "    distancias_temporario.append(int(input(f'Distância {x+1}: ')))\n",
        "  asteroides[y] = distancias_temporario.copy()\n",
        "  num_distancias+= len(distancias_temporario)\n",
        "  distancias_temporario.clear()\n",
        "  saída = str(input('Deseja sair? Digite \"s\" para encerrar.'))\n",
        "  if saída == 's':\n",
        "    break\n",
        "\n",
        "for infos in asteroides.keys():\n",
        "  numerador = sum(asteroides[infos])\n",
        "  denominador = len(asteroides[infos])\n",
        "  sum_distancias+= sum(asteroides[infos])\n",
        "  print(f'\\nNome do Asteróide: {infos} - Distâncias registradas: {asteroides[infos]}km - Distância média:', end=' ')\n",
        "  print(f'{numerador/denominador:.1f}', end='')\n",
        "  print('km')\n",
        "\n",
        "  #irei colocar abaixo a distancia média total em relação a todos os asteróides, pois\n",
        "  #na minha opinião, fica ambíguo o comando das médias na questão. É bem comum as questões\n",
        "  #das provas terem ambiguidades nos comandos do enunciado. Isso dificulta muito a resposta\n",
        "  #às vezes...\n",
        "\n",
        "media_total_do_total_ambigua = sum_distancias/num_distancias\n",
        "print(f'\\nA média total em relação a TODOS os asteróides é de: {media_total_do_total_ambigua:.1f}km')"
      ],
      "metadata": {
        "id": "rtwKfoPYef7H"
      },
      "execution_count": null,
      "outputs": []
    }
  ]
}