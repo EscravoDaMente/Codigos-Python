{
  "nbformat": 4,
  "nbformat_minor": 0,
  "metadata": {
    "colab": {
      "provenance": [],
      "collapsed_sections": [],
      "authorship_tag": "ABX9TyNoCPmVX1ZGNWBK1wgNVDy/",
      "include_colab_link": true
    },
    "kernelspec": {
      "name": "python3",
      "display_name": "Python 3"
    },
    "language_info": {
      "name": "python"
    }
  },
  "cells": [
    {
      "cell_type": "markdown",
      "metadata": {
        "id": "view-in-github",
        "colab_type": "text"
      },
      "source": [
        "<a href=\"https://colab.research.google.com/github/EscravoDaMente/Codigos-Python/blob/main/La%C3%A7os_de_repeti%C3%A7%C3%A3o_For.ipynb\" target=\"_parent\"><img src=\"https://colab.research.google.com/assets/colab-badge.svg\" alt=\"Open In Colab\"/></a>"
      ]
    },
    {
      "cell_type": "code",
      "execution_count": null,
      "metadata": {
        "id": "vj3SUaNZicxn"
      },
      "outputs": [],
      "source": [
        "#contagem regressiva\n",
        "import os\n",
        "import math\n",
        "import time\n",
        "\n",
        "print('Vai começar o estouro!')\n",
        "for x in range (10, -1, -1):\n",
        "  print(f'{x}')\n",
        "  time.sleep(1)\n",
        "print('Estourouuuu!')"
      ]
    },
    {
      "cell_type": "code",
      "source": [
        "#números pares entre 0 e 50\n",
        "import os\n",
        "import math\n",
        "import time\n",
        "\n",
        "print('Contagem de números pares:')\n",
        "print('-=-'*15)\n",
        "\n",
        "for x in range (0, 51, 2):\n",
        "  if (x<50):\n",
        "    print(f'{x}')\n",
        "    time.sleep(0.5)\n",
        "  else:\n",
        "    print(f'{x}!')\n",
        "print('-=-'*15)\n",
        "print('\\nFim do programa')"
      ],
      "metadata": {
        "id": "GxV4r8QsKjFW"
      },
      "execution_count": null,
      "outputs": []
    },
    {
      "cell_type": "code",
      "source": [
        "#soma dos números ímpares múltiplos de 3 entre 3 e 500\n",
        "import os\n",
        "import math\n",
        "import time\n",
        "\n",
        "print('Contagem da soma dos números ímpares multiplos de 3 entre 3 e 500: ')\n",
        "print('-=-'*15)\n",
        "soma = 0\n",
        "contador = 0\n",
        "for x in range (3, 501, 3):\n",
        "  if (x%2==1):\n",
        "    #print(f'{x}')\n",
        "    soma += x\n",
        "    contador += 1\n",
        "print('-=-'*15)\n",
        "print(f'\\nA soma dos {contador} números digitados é: {soma}')"
      ],
      "metadata": {
        "id": "KDvTi515N-sJ"
      },
      "execution_count": null,
      "outputs": []
    },
    {
      "cell_type": "code",
      "source": [
        "#tabuada com for\n",
        "import os\n",
        "import math\n",
        "import time\n",
        "\n",
        "num = int(input('Digite o número o qual deseja saber a tabuada: '))\n",
        "inicio = 1\n",
        "contador = 1\n",
        "print('-=-'*15)\n",
        "for x in range (inicio, 11, 1):\n",
        "  print(f'{num} * {contador} = {(num*contador)}')\n",
        "  contador += 1\n"
      ],
      "metadata": {
        "id": "hknBNi1VOdff"
      },
      "execution_count": null,
      "outputs": []
    },
    {
      "cell_type": "code",
      "source": [
        "#soma dos pares\n",
        "import os\n",
        "import math\n",
        "soma = 0\n",
        "for x in range (0, 6, 1):\n",
        "  num = int(input('Digite um valor: '))\n",
        "  if (num%2==0):\n",
        "    soma += num\n",
        "print(f'A soma dos números pares digitados é: {soma}')"
      ],
      "metadata": {
        "id": "9U41PVDQQZ0k"
      },
      "execution_count": null,
      "outputs": []
    },
    {
      "cell_type": "code",
      "source": [
        "#progressão aritmetica\n",
        "import os\n",
        "import math\n",
        "\n",
        "print('PROGRESSÃO ARITMÉTICA DO VINI')\n",
        "print('-_-'*15)\n",
        "num = int(input('Digite o primeiro termo: '))\n",
        "razao = int(input('Digite a razão: '))\n",
        "for x in range (0, 10, 1):\n",
        "  print(f'{num} ->' ,end=' ')\n",
        "  num +=razao"
      ],
      "metadata": {
        "id": "YebsYv1P4Mxn"
      },
      "execution_count": null,
      "outputs": []
    },
    {
      "cell_type": "code",
      "source": [
        "#números primos\n",
        "\n",
        "num = int(input('Digite um número: '))\n",
        "contador_primos = 0\n",
        "\n",
        "for x in range (1, num+1, 1):\n",
        "  if (num%x == 0):\n",
        "    print(f'{x}',end=' ')\n",
        "    contador_primos += 1\n",
        "  else:\n",
        "    print(f'{x}(x)',end=' ')\n",
        "\n",
        "if(contador_primos == 2):\n",
        "  print(f'O número {num} é primo')\n",
        "else:\n",
        "  print(f'O número {num} não é primo')\n",
        "\n",
        "\n",
        "\n"
      ],
      "metadata": {
        "id": "mdgIOEI56uin"
      },
      "execution_count": null,
      "outputs": []
    },
    {
      "cell_type": "code",
      "source": [
        "#comparação entre for/while - versão for (somando 5 números)\n",
        "soma = 0\n",
        "\n",
        "for x in range (0, 5, 1):\n",
        "  num = int(input('Digite um número: '))\n",
        "  soma += num\n",
        "print(f'\\nA soma dos números é: {soma}')\n",
        "  \n"
      ],
      "metadata": {
        "id": "tOYUF-OuF7Jl"
      },
      "execution_count": null,
      "outputs": []
    },
    {
      "cell_type": "code",
      "source": [
        "#compração entre for/while - versão while (somando 5 números)\n",
        "\n",
        "contador = 5\n",
        "soma = 0\n",
        "while (contador > 0):\n",
        "  num = int(input('Digite um número'))\n",
        "  soma += num\n",
        "  contador -= 1\n",
        "print(f'\\nA soma dos números é: {soma}')"
      ],
      "metadata": {
        "id": "xAfe3by8G4zk"
      },
      "execution_count": null,
      "outputs": []
    },
    {
      "cell_type": "code",
      "source": [
        "#exercício 02 aula 02 infinity\n",
        "\n",
        "for x in range (100, -1, -5):\n",
        "  if (x == 0):\n",
        "    print('ACABOU!!')\n",
        "  else:\n",
        "    print(f'{x}')"
      ],
      "metadata": {
        "id": "kIr2G2-W6xtW"
      },
      "execution_count": null,
      "outputs": []
    },
    {
      "cell_type": "code",
      "source": [
        "#exercício 03 aula 02 infinity\n",
        "contpar = 0\n",
        "contimp = 0\n",
        "for x in range (0, 5, 1):\n",
        "  num = int(input('Digite um número'))\n",
        "  if(num%2==0):\n",
        "    contpar+=1\n",
        "  else:\n",
        "    contimp+=1\n",
        "print(f'Dos números digitados, {contpar} são pares, e {contimp} são ímpares.')"
      ],
      "metadata": {
        "id": "6fzmbQHd898b"
      },
      "execution_count": null,
      "outputs": []
    },
    {
      "cell_type": "code",
      "source": [
        "#exercício 04 aula 02 infinity\n",
        "\n",
        "ini = int(input('Defina o valor inicial da progressão: '))\n",
        "fim = int(input('Defina o valor final da progressão: '))\n",
        "cont = int(input('Defina a razão: '))\n",
        "\n",
        "for x in range (ini, fim+1, cont):\n",
        "  print(x)"
      ],
      "metadata": {
        "id": "HyMplc9OeMB5"
      },
      "execution_count": null,
      "outputs": []
    },
    {
      "cell_type": "code",
      "source": [
        "#exercício 05 aula 02 infinity\n",
        "contador = 0\n",
        "salario = float(input('Informe o salário do funcionário'))\n",
        "tempo = int(input('Informe o tempo de trabalho na empresa'))\n",
        "\n",
        "print('''[1] Homem\n",
        "[2] Mulher''')\n",
        "sexo = int(input('Selecione uma das opções acima: '))\n",
        "\n",
        "while(sexo==1) and (contador==0):\n",
        "  if(tempo<20):\n",
        "    print(f'O salário após o reajuste de 3% será de: R${salario+(salario*0.03)}')\n",
        "  elif(tempo>=20 and tempo<30):\n",
        "    print(f'O salário após o reajuste de 13% será de: R${salario+(salario*0.13)}')\n",
        "  else:\n",
        "    print(f'O salário após o reajuste de 25% será de: R${salario+(salario*0.25)}')\n",
        "  contador += 1\n",
        "\n",
        "while(sexo==2) and (contador==0):\n",
        "  if(tempo<15):\n",
        "    print(f'O salário após o reajuste de 5% será de: R${salario+(salario*0.05)}')\n",
        "  elif(tempo>=15 and tempo<20):\n",
        "    print(f'O salário após o reajuste de 12% será de: R${salario+(salario*0.12)}')\n",
        "  else:\n",
        "    print(f'O salário após o reajuste de 23% será de: R${salario+(salario*0.23)}')\n",
        "  contador += 1\n",
        "\n",
        "\n"
      ],
      "metadata": {
        "id": "8CpthzvBrSTu"
      },
      "execution_count": null,
      "outputs": []
    },
    {
      "cell_type": "code",
      "source": [
        "#exercício guanabara - maioridade\n",
        "contador = 0\n",
        "lista = [0, 1, 2, 3, 4, 5, 6]\n",
        "cont_idade = 1\n",
        "maioridade = 0\n",
        "menoridade = 0\n",
        "for x in range (0, 7, 1):\n",
        "  lista[contador] = int(input(f'Digite a {cont_idade}ª idade: '))\n",
        "  cont_idade+= 1\n",
        "  if(lista[contador]>=18):\n",
        "    maioridade+= 1\n",
        "  else:\n",
        "    menoridade+=1\n",
        "print(f'Das idades informadas, {maioridade} são de maioridade, e {menoridade} são de menoridade')"
      ],
      "metadata": {
        "id": "pQq_dRA_7nBm"
      },
      "execution_count": null,
      "outputs": []
    },
    {
      "cell_type": "code",
      "source": [
        "#analisador completo\n",
        "\n",
        "lista_nome = [\"não\", \"sim\", \"talvez\", \"nãosei\"]\n",
        "lista_idade = [0, 0, 0, 0]\n",
        "lista_sexo = [\"não\", \"sim\", \"talvez\", \"nãosei\"]\n",
        "maior_nome = \"oi\"\n",
        "maior_sexo = \"oi\"\n",
        "maior_idade = 0\n",
        "cont_ordinal = 1\n",
        "cont_geral = 0\n",
        "\n",
        "for x in range (0, 4, 1):\n",
        "  print('-'*5,end=' ')\n",
        "  print(f'{cont_ordinal}ª pessoa',end=' ')\n",
        "  print('-'*5)\n",
        "  lista_nome[cont_geral] = str(input('Nome: '))\n",
        "  lista_idade[cont_geral] = int(input('Idade: '))\n",
        "  lista_sexo[cont_geral] = str(input('Sexo [M/F]: '))\n",
        "  if(lista_idade[cont_geral]>maior_idade):\n",
        "    maior_idade = lista_idade[cont_geral]\n",
        "    maior_sexo = lista_sexo[cont_geral]\n",
        "    maior_nome = lista_nome[cont_geral]\n",
        "  cont_geral+= 1\n",
        "  cont_ordinal+=1\n",
        "\n",
        "if(maior_sexo == \"M\"):\n",
        "  print(f'A pessoa mais velha é um homem, seu nome é {maior_nome}, e sua idade é {maior_idade}')\n",
        "elif(maior_sexo == \"F\"):\n",
        "  print(f'A pessoa mais velha é uma mulher, seu nome é {maior_nome}, e sua idade é {maior_idade}')\n",
        "\n"
      ],
      "metadata": {
        "id": "dJvISgW4_pZr"
      },
      "execution_count": null,
      "outputs": []
    },
    {
      "cell_type": "code",
      "source": [
        "#Aula 04 Infinity\n",
        "\n",
        "somap = 0\n",
        "for x in range(0, 6, 1):\n",
        "  num = int(input('Digite um número: '))\n",
        "  if (num%2 == 0):\n",
        "    somap+=num\n",
        "\n",
        "print(f'A soma dos números pares digitados é: {somap}')\n"
      ],
      "metadata": {
        "id": "7UhHRyCEzLli"
      },
      "execution_count": null,
      "outputs": []
    },
    {
      "cell_type": "code",
      "source": [
        "#Aula 04 Infinity\n",
        "\n",
        "mvelho = \"nome\"\n",
        "baixo20_contador = 0\n",
        "media = 0\n",
        "maior_idade = 0\n",
        "for x in range (0,3,1):\n",
        "  nome = str(input('Digite o seu nome: '))\n",
        "  idade = int(input('Digite a sua idade: '))\n",
        "  sexo = str(input('Informe o seu sexo [M/F]: ')).lower()\n",
        "  if(idade > maior_idade):\n",
        "    mvelho = nome\n",
        "    maior_idade = idade\n",
        "  if(idade < 20):\n",
        "    baixo20_contador+=1\n",
        "  media +=idade\n",
        "media = (media/3)\n",
        "print(f'''O nome da pessoa mais velha é {mvelho}, a média das idades apresentadas é: {media:.0f}\n",
        "      , e existe(m) {baixo20_contador} pessoa(s) com menos de 20 anos.''')"
      ],
      "metadata": {
        "id": "lIiHKpGR0R43"
      },
      "execution_count": null,
      "outputs": []
    },
    {
      "cell_type": "code",
      "source": [
        "#Aula 04 Infinity\n",
        "\n",
        "cont= n = 0\n",
        "\n",
        "while True:\n",
        "  cont = int(input('Digite um número: '))\n",
        "  if(cont==9999):\n",
        "    break\n",
        "  n+=cont\n",
        "\n",
        "print(f'A soma vale {n}')"
      ],
      "metadata": {
        "id": "53XsUnNrIob7"
      },
      "execution_count": null,
      "outputs": []
    },
    {
      "cell_type": "code",
      "source": [
        "#Aula 04 Infinity\n",
        "\n",
        "escolha = ''\n",
        "\n",
        "while (escolha == ''):\n",
        "  sexo = str(input('Informe o seu sexo [M/F]: ')).lower()\n",
        "  if(sexo=='m') or (sexo=='f'):\n",
        "    break\n",
        "\n",
        "print('Estou fora do while')"
      ],
      "metadata": {
        "id": "NEZvYvILN7bc"
      },
      "execution_count": null,
      "outputs": []
    },
    {
      "cell_type": "code",
      "source": [
        "#Aula 04 Infinity\n",
        "\n",
        "while True:\n",
        "  print('-----MENU CALCULADORA-----')\n",
        "\n",
        "  v1 = int(input('Informe um valor: '))\n",
        "  v2 = int(input('Informe outro valor: '))\n",
        "\n",
        "  menu = int(input('''Digite:\n",
        "  [1] SOMA\n",
        "  [2] MULTIPLICAÇÃO\n",
        "  [3] DIVISÃO\n",
        "  [4] SUBTRAÇÃO\n",
        "  [5] SAIR\\n'''))\n",
        "\n",
        "  if(menu == 1):\n",
        "    print(f'SOMA dos valores digitados: {v1+v2}')\n",
        "  elif(menu == 2):\n",
        "    print(f'MULTIPLICAÇÃO dos valores digitados: {v1*v2}')\n",
        "  elif(menu == 3):\n",
        "    print(f'DIVISÃO dos valores digitados: {v1/v2}')\n",
        "  elif(menu == 4):\n",
        "    print(f'SUBTRAÇÃO dos valores digitados: {v1-v2}')\n",
        "  elif(menu == 5):\n",
        "    confirm = str(input('Tem certeza que deseja sair? [s/n]')).lower()\n",
        "    if(confirm == 's'):\n",
        "      break\n",
        "  \n",
        "print('Estou fora do while')"
      ],
      "metadata": {
        "id": "0aKEj4A5Po_B"
      },
      "execution_count": null,
      "outputs": []
    },
    {
      "cell_type": "code",
      "source": [
        "L = [1] \n",
        "\n",
        "while len (L) < 6:\n",
        "\n",
        "        L . append ( L [ -1 ] * len (L) )\n",
        "\n",
        "print(L)   "
      ],
      "metadata": {
        "id": "2I27xx9y8hAM"
      },
      "execution_count": null,
      "outputs": []
    }
  ]
}