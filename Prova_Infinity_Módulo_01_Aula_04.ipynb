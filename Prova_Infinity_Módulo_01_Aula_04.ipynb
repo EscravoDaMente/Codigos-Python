{
  "nbformat": 4,
  "nbformat_minor": 0,
  "metadata": {
    "colab": {
      "provenance": [],
      "authorship_tag": "ABX9TyP1+b5HSUOc7u++FbNU9BUv",
      "include_colab_link": true
    },
    "kernelspec": {
      "name": "python3",
      "display_name": "Python 3"
    },
    "language_info": {
      "name": "python"
    }
  },
  "cells": [
    {
      "cell_type": "markdown",
      "metadata": {
        "id": "view-in-github",
        "colab_type": "text"
      },
      "source": [
        "<a href=\"https://colab.research.google.com/github/EscravoDaMente/Codigos-Python/blob/main/Prova_Infinity_M%C3%B3dulo_01_Aula_04.ipynb\" target=\"_parent\"><img src=\"https://colab.research.google.com/assets/colab-badge.svg\" alt=\"Open In Colab\"/></a>"
      ]
    },
    {
      "cell_type": "code",
      "execution_count": null,
      "metadata": {
        "id": "CSVj8yhUqD5a"
      },
      "outputs": [],
      "source": [
        "#Questão 01\n",
        "\n",
        "print('Verificador de número primo: ')\n",
        "print('-=-'*15)\n",
        "\n",
        "num = [(int(input('Digite um número: '))) for x in range(2)]\n",
        "lista = []\n",
        "for y in range (num[0], num[-1]+1):\n",
        "  if (y==2 or y==3 or y==5):\n",
        "    lista.append(y)\n",
        "  elif(y%2!=0 and y%3!=0 and y%5!=0):\n",
        "    lista.append(y)\n",
        "\n",
        "print(f'Os números primos entre {num[0]}, e {num[-1]} são: {lista}')"
      ]
    },
    {
      "cell_type": "code",
      "source": [
        "#Questão 02\n",
        "\n",
        "#Sobre a questão 01: Não sabia que 1x respondida a questão, não é possível mais editar dentro do tempo da prova.\n",
        "#Percebi um detalhe ao passar para a questão 2: O contador para na última posição da lista não exibe a última posição\n",
        "#Queria deixar registrado que compreendo que: isso seria sanado adicionando um +1 na condição final de parada do For\n",
        "#O correto seria: for y in range (num[0], num[-1]+1):\n",
        "#Caso a intenção da questão seja desconsiderar os números digitados (inicio e fim), seria só adicionar um -1 no início do for, e remover o +1 do final\n",
        "\n",
        "\n",
        "print('CALCULADORA DE VAZAMENTOS')\n",
        "print('-=-'*9)\n",
        "\n",
        "quantidade_vazamentos = int(input('Informe a quantidade de vazamentos ocorridos na data atual: '))\n",
        "litros = horas = total = 0\n",
        "for x in range (1, quantidade_vazamentos + 1):\n",
        "  litros = int(input(f'Informe a vazão de litros por hora do {x}º vazamento: '))\n",
        "  horas = int(input('Informe a quantidade de horas que perdurou o vazamento: '))\n",
        "  total += (litros*horas)\n",
        "\n",
        "print(f'\\nO total de água desperdiçada, de acordo com os valores informados, foi de {total} litros.')"
      ],
      "metadata": {
        "id": "NYggC1qz7Ybe"
      },
      "execution_count": null,
      "outputs": []
    },
    {
      "cell_type": "code",
      "source": [
        "#Questão 03\n",
        "\n",
        "print('BABY WAZE')\n",
        "print('-=-'*4)\n",
        "\n",
        "direção = ' '\n",
        "contador = 0\n",
        "while True:\n",
        "  direção = str(input('''Informe as direções até o destino. Selecione uma das opções abaixo:\n",
        "  [1] SEGUIR EM FRENTE\n",
        "  [2] VIRAR À ESQUERDA\n",
        "  [3] VIRAR À DIREITA\n",
        "  [4] PARAR\\n'''))\n",
        "  if(direção == '4'):\n",
        "    break\n",
        "  elif((direção != '1') and (direção!= '2') and (direção!='3')):\n",
        "    print('Digite uma opção válida.')\n",
        "    continue\n",
        "  \n",
        "  contador+=100\n",
        "\n",
        "print(f'A distância total percorrida foi de: {(contador/1000)}km')"
      ],
      "metadata": {
        "id": "NBgsM883Gl5f"
      },
      "execution_count": null,
      "outputs": []
    }
  ]
}