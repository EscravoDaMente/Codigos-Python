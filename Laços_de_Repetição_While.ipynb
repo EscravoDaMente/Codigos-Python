{
  "nbformat": 4,
  "nbformat_minor": 0,
  "metadata": {
    "colab": {
      "provenance": [],
      "collapsed_sections": [],
      "authorship_tag": "ABX9TyPzKwEQ65KWmW+FIg2PWCSR",
      "include_colab_link": true
    },
    "kernelspec": {
      "name": "python3",
      "display_name": "Python 3"
    },
    "language_info": {
      "name": "python"
    }
  },
  "cells": [
    {
      "cell_type": "markdown",
      "metadata": {
        "id": "view-in-github",
        "colab_type": "text"
      },
      "source": [
        "<a href=\"https://colab.research.google.com/github/EscravoDaMente/Codigos-Python/blob/main/La%C3%A7os_de_Repeti%C3%A7%C3%A3o_While.ipynb\" target=\"_parent\"><img src=\"https://colab.research.google.com/assets/colab-badge.svg\" alt=\"Open In Colab\"/></a>"
      ]
    },
    {
      "cell_type": "code",
      "execution_count": null,
      "metadata": {
        "id": "7bflz8HBQ2hp"
      },
      "outputs": [],
      "source": [
        "#Validação de Dados\n",
        "\n",
        "dado1 = \"m\"\n",
        "dado2 = \"f\"\n",
        "usuario = \"none\"\n",
        "while(usuario!=\"m\" and usuario!=\"f\"):\n",
        "  usuario = str(input('Informe um sexo [M/F]: ')).lower()\n",
        "  if(usuario!=\"m\" and usuario!=\"f\"):\n",
        "    print('Informação inválida. Por favor digite uma informação válida')\n",
        "print(f'Usuário {usuario.upper()} registrado com sucesso!')"
      ]
    },
    {
      "cell_type": "code",
      "source": [
        "#Jogo da Advinhação 2.0\n",
        "import random\n",
        "x = random.randint(0,11)\n",
        "num = 0\n",
        "contador = 0\n",
        "while(num!=x):\n",
        "  num = int(input('Qual o número que eu pensei entre 1 e 10?'))\n",
        "  if(num<x):\n",
        "    print('Um pouco mais...')\n",
        "    contador+=1\n",
        "  elif(num>x):\n",
        "    print('Um pouco menos...')\n",
        "    contador+=1\n",
        "  else:\n",
        "    print(f'Parabéns, você acertou em {contador} tentativas!! O número pensado foi {x}')"
      ],
      "metadata": {
        "id": "Z3HXdMTTRAbz"
      },
      "execution_count": null,
      "outputs": []
    },
    {
      "cell_type": "code",
      "source": [
        "#teste 01 break - tabuada\n",
        "decisao = \"sim\"\n",
        "num = 0\n",
        "#num = int(input('Deseja saber a tabuada de qual valor?'))\n",
        "print('-'*15)\n",
        "while(num>-1):\n",
        "  num = int(input('Deseja saber a tabuada de qual valor?'))\n",
        "  if(num<=-1):\n",
        "    break\n",
        "  print(f'''{num} x 1 = {num*1}\n",
        "      {num} x 2 = {num*2}\n",
        "      {num} x 3 = {num*3}\n",
        "      {num} x 4 = {num*4}\n",
        "      {num} x 5 = {num*5}\n",
        "      {num} x 6 = {num*6}\n",
        "      {num} x 7 = {num*7}\n",
        "      {num} x 8 = {num*8}\n",
        "      {num} x 9 = {num*9}\n",
        "      {num} x 10 = {num*10}''')\n",
        "print('Programa encerrado.')"
      ],
      "metadata": {
        "id": "Vi8RJiaJRDuJ"
      },
      "execution_count": null,
      "outputs": []
    },
    {
      "cell_type": "code",
      "source": [
        "#caixa eletrônico\n",
        "\n",
        "print('BANCO DO VINI')\n",
        "valor = int(input('Digite o valor a ser sacado: '))\n",
        "\n",
        "nota50 = valor//50\n",
        "valor %= 50\n",
        "nota20 = valor//20\n",
        "valor %= 20\n",
        "nota5 = valor//5\n",
        "valor %= 5\n",
        "nota1 = valor//1\n",
        "valor %= 1\n",
        "\n",
        "if(valor==0):\n",
        "  print(f'Serão sacadas {nota50} notas de 50, {nota20} notas de 20, {nota5} notas de 5, e {nota1} notas de 1')\n"
      ],
      "metadata": {
        "id": "rOytfE-t8gm5"
      },
      "execution_count": null,
      "outputs": []
    },
    {
      "cell_type": "code",
      "source": [
        "L = [1] \n",
        "\n",
        "while len (L) < 6:\n",
        "\n",
        "        L . append ( L [ -1 ] * len (L) )\n",
        "\n",
        "print(L)   "
      ],
      "metadata": {
        "id": "FxVtt529CC_u"
      },
      "execution_count": null,
      "outputs": []
    },
    {
      "cell_type": "code",
      "source": [
        "for i in range(10,1,-1):                                    \n",
        "\n",
        "    X.append(i)                             \n",
        "\n",
        "print(X[3:]) "
      ],
      "metadata": {
        "id": "Tm8WGkjaCDx_"
      },
      "execution_count": null,
      "outputs": []
    },
    {
      "cell_type": "code",
      "source": [
        "L=[\"A\",\"E\",\"I\",\"O\",\"U\"] \n",
        "\n",
        "for k in range(-1, -5, -1):     \n",
        "\n",
        "    print(L[k+1]) "
      ],
      "metadata": {
        "id": "s0mSip7GCVZv"
      },
      "execution_count": null,
      "outputs": []
    },
    {
      "cell_type": "code",
      "source": [
        "x = [ print(i) for i in range(10) if i % 2 == 0 ] \n",
        "\n",
        "print(x)"
      ],
      "metadata": {
        "id": "n_K2cAJmDu13"
      },
      "execution_count": null,
      "outputs": []
    }
  ]
}