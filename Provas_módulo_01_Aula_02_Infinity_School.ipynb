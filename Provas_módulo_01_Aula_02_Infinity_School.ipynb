{
  "nbformat": 4,
  "nbformat_minor": 0,
  "metadata": {
    "colab": {
      "provenance": [],
      "collapsed_sections": [],
      "authorship_tag": "ABX9TyOtZCzDUK+ZFE6p+FagtVff",
      "include_colab_link": true
    },
    "kernelspec": {
      "name": "python3",
      "display_name": "Python 3"
    },
    "language_info": {
      "name": "python"
    }
  },
  "cells": [
    {
      "cell_type": "markdown",
      "metadata": {
        "id": "view-in-github",
        "colab_type": "text"
      },
      "source": [
        "<a href=\"https://colab.research.google.com/github/EscravoDaMente/Codigos-Python/blob/main/Provas_m%C3%B3dulo_01_Aula_02_Infinity_School.ipynb\" target=\"_parent\"><img src=\"https://colab.research.google.com/assets/colab-badge.svg\" alt=\"Open In Colab\"/></a>"
      ]
    },
    {
      "cell_type": "code",
      "execution_count": null,
      "metadata": {
        "id": "d8FZ0AtokvAX"
      },
      "outputs": [],
      "source": [
        "#Prova aula 02 - Lógica de Programação - Infinity School\n",
        "\n",
        "fim = int(input('Defina o número de moradores da cidade: '))\n",
        "conth = 0\n",
        "contm = 0\n",
        "ordinal = 1\n",
        "for x in range (0, fim, 1):\n",
        "  print('[1] Homem\\n[2]Mulher')\n",
        "  num = int(input(f'Selecione um sexo acima para o {ordinal}º indivíduo '))\n",
        "  ordinal += 1\n",
        "  if(num==1):\n",
        "    conth+=1\n",
        "  elif(num==2):\n",
        "    contm+=1\n",
        "  elif(num!=1 and num!=2):\n",
        "    print('Digite uma opção válida, ou os dados apresentados ficarão comprometidos!')\n",
        "\n",
        "print(f'Homens: {conth}\\nMulheres:{contm}')"
      ]
    },
    {
      "cell_type": "code",
      "source": [
        "#Prova aula 02 - Lógica de Programação - Infinity School\n",
        "\n",
        "faixa1 = 0\n",
        "faixa2 = 0\n",
        "faixa3 = 0\n",
        "faixa4 = 0\n",
        "faixa5 = 0\n",
        "num = 0\n",
        "\n",
        "\n",
        "for x in range(0, 15, 1):\n",
        "  num = float(input('Digite uma idade: '))\n",
        "  if(num<=15):\n",
        "    faixa1+= 1\n",
        "  elif(num>=16 and num<=30):\n",
        "    faixa2+= 1\n",
        "  elif(num>=31 and num<=45):\n",
        "    faixa3+= 1\n",
        "  elif(num>=46 and num <=60):\n",
        "    faixa4+= 1\n",
        "  elif(num>=61):\n",
        "    faixa5+= 1\n",
        "\n",
        "porcentagem1 = (faixa1/15)*100\n",
        "porcentagem2 = (faixa5/15)*100\n",
        "print(f'''Do total de idades digitadas, {faixa1} pessoas possuem até 15 anos, isso representa {porcentagem1:.1f}% do total de idades registradas.\\n\n",
        "E desse mesmo total, {faixa5} pessoas possuem mais do que 61 anos, isso representa {porcentagem2:.1f}% do total de idades registradas.''')\n",
        "\n",
        "print(f'''Quantidade de idades apresentadas por faixa:\n",
        "\n",
        "Até 15 anos: {faixa1} pessoas;\n",
        "De 16 a 30: {faixa2} pessoas;\n",
        "De 31 a 45: {faixa3} pessoas;\n",
        "De 46 a 60: {faixa4} pessoas;\n",
        "Acima de 61: {faixa5} pessoas.''')"
      ],
      "metadata": {
        "id": "uAUxTiCWvoWI"
      },
      "execution_count": null,
      "outputs": []
    },
    {
      "cell_type": "code",
      "source": [
        "#Prova aula 02 - Lógica de Programação - Infinity School\n",
        "\n",
        "continuar = \"sim\"\n",
        "nota1 = 0\n",
        "nota2 = 0\n",
        "nota3 = 0\n",
        "media = 0\n",
        "while(continuar==\"sim\"):\n",
        "  nota1 = int(input('Digite a primeira nota: '))\n",
        "  nota2 = int(input('Digite a segunda nota: '))\n",
        "  nota3 = int(input('Digite a terceira nota: '))\n",
        "  frequencia = int(input('Digite a frequencia do aluno: '))\n",
        "  media = (nota1+nota2+nota3)/3\n",
        "  if(media>=6 and frequencia >=40):\n",
        "    print(f'O aluno possui média {media:.1f}, e frequência acima do mínimo estabelecido. Portanto, está aprovado!')\n",
        "  elif(media>=6 and frequencia<40):\n",
        "    print(f'O aluno possui média {media:.1f}, porém possui frequência abaixo do mínimo estabelecido: {frequencia}. Portanto, está reprovado por frequência.')\n",
        "  elif(media<6 and frequencia<40):\n",
        "    print(f'O aluno possui média abaixo de 6, portanto está reprovado.')\n",
        "  elif(media<6 and frequencia>40):\n",
        "    print(f'O aluno possui média abaixo de 6, portanto está reprovado.')\n",
        "  continuar = str(input('Deseja continuar? Digite \"sim\" para continuar. Pressione qualquer tecla para encerrar.')).lower()"
      ],
      "metadata": {
        "id": "SSIFrzVe3yZT"
      },
      "execution_count": null,
      "outputs": []
    },
    {
      "cell_type": "code",
      "source": [
        "numero = int(input(\"Digite o número o qual deseja saber o fatorial: \") )\n",
        "\n",
        "resultado=1\n",
        "contador=1\n",
        "\n",
        "while contador <= numero:\n",
        "    resultado *= contador\n",
        "    contador += 1\n",
        "\n",
        "print(f'{numero}! = {resultado}')"
      ],
      "metadata": {
        "id": "HUgo_laS_P5z"
      },
      "execution_count": null,
      "outputs": []
    },
    {
      "cell_type": "code",
      "source": [
        "print('Tabela de descontos:')\n",
        "continuar = \"sim\"\n",
        "while(continuar==\"sim\"):\n",
        "  valor = int(input('Digite o valor do produto, a partir de R$500: '))\n",
        "  ajuste = valor//100\n",
        "  desconto = ajuste-4\n",
        "  if(valor>=2900):\n",
        "    desconto = 25\n",
        "  final = valor - (valor*(desconto/100))\n",
        "  print(f'O valor da compra é de: R${valor:.0f}. O desconto é de {desconto:.0f}%, o valor final com o desconto é de: R${final:.0f}')\n",
        "  continuar = str(input('Deseja continuar? Digite \"sim\" para continuar, e qualquer tecla para encerrar.'))"
      ],
      "metadata": {
        "id": "UuV03xpRBTHb"
      },
      "execution_count": null,
      "outputs": []
    },
    {
      "cell_type": "code",
      "source": [
        "valor = 500\n",
        "ajuste = valor//100\n",
        "print(ajuste)"
      ],
      "metadata": {
        "id": "Ucd2e3qpKokr"
      },
      "execution_count": null,
      "outputs": []
    },
    {
      "cell_type": "code",
      "source": [
        "valor = 720//100\n",
        "desconto = valor - 4\n",
        "print(valor)\n",
        "print(desconto)\n"
      ],
      "metadata": {
        "id": "qod4YQAZJJNf"
      },
      "execution_count": null,
      "outputs": []
    },
    {
      "cell_type": "code",
      "source": [
        "#fatorial\n",
        "\n",
        "num = int(input('Digite o número o qual deseja saber o fatorial: '))\n",
        "contador = 1\n",
        "resultado = 1\n",
        "while(contador<=num):\n",
        "  #contador2 = num\n",
        "  #fatorial = num*(contador2-1)\n",
        "  print(f'{num}',end='')\n",
        "  resultado *= contador\n",
        "  contador += 1\n",
        "print(f'{resultado}')"
      ],
      "metadata": {
        "id": "dOU7HhnpaDep"
      },
      "execution_count": null,
      "outputs": []
    },
    {
      "cell_type": "code",
      "source": [
        "#fatorial\n",
        "\n",
        "num = int(input('Digite o número o qual deseja saber o fatorial: '))\n",
        "contador = 1\n",
        "resultado = 1\n",
        "while(contador<=num):\n",
        "  #contador2 = num\n",
        "  #fatorial = num*(contador2-1)\n",
        "  print(f'{num}*',end='')\n",
        "  resultado *= num\n",
        "  num -= 1\n",
        "print(f'\\n5! = {resultado}')"
      ],
      "metadata": {
        "colab": {
          "base_uri": "https://localhost:8080/"
        },
        "id": "hIEpH0JlgmwG",
        "outputId": "5fff1eea-8bcb-41cc-d6c3-d7c0c8519c92"
      },
      "execution_count": null,
      "outputs": [
        {
          "output_type": "stream",
          "name": "stdout",
          "text": [
            "Digite o número o qual deseja saber o fatorial: 5\n",
            "5*4*3*2*1*\n",
            "5! = 120\n"
          ]
        }
      ]
    }
  ]
}